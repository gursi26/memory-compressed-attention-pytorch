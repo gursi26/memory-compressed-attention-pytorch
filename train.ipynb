{
 "cells": [
  {
   "cell_type": "code",
   "execution_count": null,
   "metadata": {},
   "outputs": [],
   "source": [
    "import torch\n",
    "from torch import nn, optim\n",
    "from torch.utils.data import DataLoader\n",
    "from tqdm import tqdm\n",
    "from transformers import PreTrainedTokenizerFast\n",
    "from dataset import AbstractiveSummarizationDataset, TokenizeCollate\n",
    "from decoder import DecoderOnlyModel"
   ]
  },
  {
   "cell_type": "code",
   "execution_count": null,
   "metadata": {},
   "outputs": [],
   "source": [
    "EPOCHS = 20\n",
    "LR = 0.0001\n",
    "BATCH_SIZE = 32\n",
    "DEV = torch.device(\"mps\")\n",
    "\n",
    "D_MODEL = 512\n",
    "NUM_HEADS = 8\n",
    "NUM_LAYERS = 5\n",
    "COMPRESS_FACTOR = 3\n",
    "BLOCK_SIZE = 256\n",
    "DROPOUT_P = 0.1"
   ]
  },
  {
   "cell_type": "code",
   "execution_count": null,
   "metadata": {},
   "outputs": [],
   "source": [
    "dataset = AbstractiveSummarizationDataset(\"xsum.csv\")\n",
    "tokenizer = PreTrainedTokenizerFast.from_pretrained(\"tokenizer\")\n",
    "loader = DataLoader(dataset, batch_size=BATCH_SIZE, shuffle=True, collate_fn=TokenizeCollate(tokenizer))"
   ]
  },
  {
   "cell_type": "code",
   "execution_count": null,
   "metadata": {},
   "outputs": [],
   "source": [
    "model = DecoderOnlyModel(\n",
    "    vocab_size=tokenizer.vocab_size,\n",
    "    d_model=D_MODEL,\n",
    "    num_heads=NUM_HEADS,\n",
    "    num_layers=NUM_LAYERS,\n",
    "    compress_factor=COMPRESS_FACTOR,\n",
    "    block_size=BLOCK_SIZE,\n",
    "    dropout_p=DROPOUT_P,\n",
    ").to(DEV)"
   ]
  },
  {
   "cell_type": "code",
   "execution_count": null,
   "metadata": {},
   "outputs": [],
   "source": [
    "crit = nn.CrossEntropyLoss()\n",
    "opt = optim.Adam(model.parameters(), lr=LR)"
   ]
  },
  {
   "cell_type": "code",
   "execution_count": null,
   "metadata": {},
   "outputs": [],
   "source": [
    "for e in range(1, EPOCHS + 1):\n",
    "    loop = tqdm(enumerate(loader), total=len(loader), leave=True, position=0)\n",
    "    loop.set_description(f\"Epoch : [{e}/{EPOCHS}]\")\n",
    "    total_loss = 0\n",
    "    for i, (src, tgt) in loop:\n",
    "        src, tgt = src.to(DEV), tgt.to(DEV)\n",
    "        yhat = model(src)\n",
    "        loss = crit(yhat.reshape(-1, yhat.shape[-1]), tgt.reshape(-1))\n",
    "        loss.backward()\n",
    "        opt.step()\n",
    "\n",
    "        total_loss += loss.item()\n",
    "        loop.set_postfix(loss = total_loss/(i + 1))"
   ]
  }
 ],
 "metadata": {
  "kernelspec": {
   "display_name": "ml",
   "language": "python",
   "name": "python3"
  },
  "language_info": {
   "codemirror_mode": {
    "name": "ipython",
    "version": 3
   },
   "file_extension": ".py",
   "mimetype": "text/x-python",
   "name": "python",
   "nbconvert_exporter": "python",
   "pygments_lexer": "ipython3",
   "version": "3.9.13"
  },
  "orig_nbformat": 4
 },
 "nbformat": 4,
 "nbformat_minor": 2
}
