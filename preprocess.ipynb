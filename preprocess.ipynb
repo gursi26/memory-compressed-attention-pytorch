{
 "cells": [
  {
   "cell_type": "code",
   "execution_count": 20,
   "metadata": {},
   "outputs": [],
   "source": [
    "import pandas as pd\n",
    "from tqdm import tqdm\n",
    "import numpy as np"
   ]
  },
  {
   "cell_type": "code",
   "execution_count": 21,
   "metadata": {},
   "outputs": [],
   "source": [
    "def preprocess_text(text: str):\n",
    "    text = text.strip()\n",
    "    try:\n",
    "        if text[-1].isdigit():\n",
    "            text = text[:-1] + \" \" + text[-1]\n",
    "    except IndexError:\n",
    "        return np.nan\n",
    "    text = text.lower().split(\"\\n\")\n",
    "    while \"\" in text:\n",
    "        text.remove(\"\")\n",
    "    for i in range(len(text)):\n",
    "        text[i] = text[i].translate(str.maketrans('', '', '!\"“”#$%&\\'()*+/:;<=>?@[\\\\]^_`{|}~’')).strip()\n",
    "        if text[i].startswith(\",\"):\n",
    "            text[i] = text[i][1:].strip()\n",
    "        if text[i].startswith(\".\"):\n",
    "            text[i] = text[i][1:].strip()\n",
    "        \n",
    "        to_remove = []\n",
    "        for j in range(len(text[i]) - 1):\n",
    "            if text[i][j] == \",\" or text[i][j] == \".\":\n",
    "                if text[i][j + 1] == \",\" or text[i][j + 1] == '.':\n",
    "                    to_remove.append(j + 1)\n",
    "        for idx in to_remove[::-1]:\n",
    "            text[i] = text[i][:idx] + text[i][idx+1:]\n",
    "\n",
    "        add_to_start = lambda s: \" \" + s if not s.startswith(\" \") else s\n",
    "        add_to_end = lambda s: s + \" \" if not s.endswith(\" \") else s\n",
    "        space_out = lambda s, s2: s2.join([add_to_end(add_to_start(sentence)) for sentence in s.split(s2)]).strip()\n",
    "        to_space_out = [\".\", \",\", \"-\"]\n",
    "        for c in to_space_out:\n",
    "            text[i] = space_out(text[i], c)\n",
    "    return \" \".join(text)"
   ]
  },
  {
   "cell_type": "code",
   "execution_count": 22,
   "metadata": {},
   "outputs": [],
   "source": [
    "df = pd.read_csv(\"wikihow.csv\", names=[\"summary\", \"title\", \"text\"])\n",
    "df = df.drop([0], axis=0).dropna()"
   ]
  },
  {
   "cell_type": "code",
   "execution_count": 23,
   "metadata": {},
   "outputs": [
    {
     "name": "stderr",
     "output_type": "stream",
     "text": [
      "100%|██████████| 214294/214294 [02:20<00:00, 1522.62it/s]\n"
     ]
    }
   ],
   "source": [
    "for idx in tqdm(range(len(df)), total=len(df), leave=True, position=0):\n",
    "    for j in range(3):\n",
    "        df.iloc[idx][j] = preprocess_text(df.iloc[idx][j])"
   ]
  },
  {
   "cell_type": "code",
   "execution_count": 26,
   "metadata": {},
   "outputs": [],
   "source": [
    "df = df.dropna()"
   ]
  },
  {
   "cell_type": "code",
   "execution_count": 30,
   "metadata": {},
   "outputs": [],
   "source": [
    "df.to_csv(\"wikihow-cleaned.csv\", index=False)"
   ]
  }
 ],
 "metadata": {
  "kernelspec": {
   "display_name": "ml",
   "language": "python",
   "name": "python3"
  },
  "language_info": {
   "codemirror_mode": {
    "name": "ipython",
    "version": 3
   },
   "file_extension": ".py",
   "mimetype": "text/x-python",
   "name": "python",
   "nbconvert_exporter": "python",
   "pygments_lexer": "ipython3",
   "version": "3.9.13"
  },
  "orig_nbformat": 4
 },
 "nbformat": 4,
 "nbformat_minor": 2
}
