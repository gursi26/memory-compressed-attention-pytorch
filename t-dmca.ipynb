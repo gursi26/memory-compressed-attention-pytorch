{
 "cells": [
  {
   "cell_type": "code",
   "execution_count": 234,
   "metadata": {},
   "outputs": [],
   "source": [
    "import torch\n",
    "from torch import nn, optim\n",
    "import torch.nn.functional as F\n",
    "from torch.utils.data import Dataset, DataLoader\n",
    "from tqdm import tqdm\n",
    "import pandas as pd\n",
    "import string\n",
    "import re\n",
    "import math"
   ]
  },
  {
   "cell_type": "code",
   "execution_count": 235,
   "metadata": {},
   "outputs": [],
   "source": [
    "df = pd.read_csv(\"wikihow-cleaned.csv\")"
   ]
  },
  {
   "cell_type": "code",
   "execution_count": 236,
   "metadata": {},
   "outputs": [],
   "source": [
    "class QKVLayer(nn.Module):\n",
    "\n",
    "    def __init__(self, input_dim, output_dim, num_heads, bias=True):\n",
    "        super(QKVLayer, self).__init__()\n",
    "        assert output_dim % num_heads == 0\n",
    "        self.num_heads = num_heads\n",
    "        self.q_layer = nn.Linear(input_dim, output_dim, bias=bias)\n",
    "        self.kv_layer = nn.Linear(input_dim, output_dim * 2, bias=bias)\n",
    "\n",
    "    def reshape(self, x):\n",
    "        return x.view(x.shape[0], x.shape[1], self.num_heads, -1).permute(0, 2, 1, 3)\n",
    "\n",
    "    def forward(self, x1, x2=None):\n",
    "        \"\"\"\n",
    "        x1: [batch_size, seq1_len, embed_dim]\n",
    "        x2: [batch_size, seq2_len, embed_dim]\n",
    "        (x2 is None if self attention)\n",
    "        \"\"\"\n",
    "        q = self.q_layer(x1)\n",
    "        if x2 is None:\n",
    "            k, v = self.kv_layer(x1).chunk(2, dim=-1)\n",
    "        else:\n",
    "            k, v = self.kv_layer(x2).chunk(2, dim=-1)\n",
    "        return q, k, v\n",
    "        \n",
    "\n",
    "def scaled_dot_product_attention(q, k, v, mask):\n",
    "    \"\"\"\n",
    "    q: [batch_size, num_heads, head_dim, seq1_len]\n",
    "    k: [batch_size, num_heads, head_dim, seq2_len]\n",
    "    v: [batch_size, num_heads, head_dim, seq2_len]\n",
    "    mask: [batch_size, num_heads, seq1_len, seq1_len]\n",
    "    (seq1_len = seq2_len for self attention)\n",
    "    \"\"\"\n",
    "    qk = q.matmul(k.transpose(-1, -2)) / math.sqrt(q.shape[-1])\n",
    "    if mask is not None:\n",
    "        qk = qk.masked_fill(~mask, -torch.inf)\n",
    "    attn_weights = qk.softmax(dim=-1)\n",
    "    return attn_weights.matmul(v)\n",
    "\n",
    "\n",
    "class CompressKV(nn.Module):\n",
    "\n",
    "    def __init__(self, input_shape, compress_factor):\n",
    "        super(CompressKV, self).__init__()\n",
    "        self.compress_factor = compress_factor\n",
    "        self.conv = nn.Conv1d(\n",
    "            in_channels=input_shape,\n",
    "            out_channels=input_shape,\n",
    "            kernel_size=compress_factor,\n",
    "            stride=compress_factor\n",
    "        )\n",
    "\n",
    "    def pad(self, x):\n",
    "        pad_amt = self.compress_factor - (x.shape[-1] % self.compress_factor)\n",
    "        pad_amt = 0 if pad_amt == self.compress_factor else pad_amt\n",
    "        return torch.cat([x, torch.zeros(x.shape[0], x.shape[1], pad_amt)], dim=-1)\n",
    "\n",
    "    def forward(self, x):\n",
    "        \"\"\"\n",
    "        x: [batch_size, seq_len, embed_dim]\n",
    "        \"\"\"\n",
    "        x = x.permute(0, 2, 1)\n",
    "        x = self.pad(x)\n",
    "        return self.conv(x).permute(0, 2, 1)\n",
    "\n",
    "\n",
    "class CompressedMultiHeadAttention(nn.Module):\n",
    "\n",
    "    def __init__(self, input_dim, output_dim, num_heads, compress_factor):\n",
    "        super(CompressedMultiHeadAttention, self).__init__()\n",
    "        self.qkv_layer = QKVLayer(input_dim, output_dim, num_heads)\n",
    "        self.compress_k = CompressKV(output_dim, compress_factor)\n",
    "        self.compress_v = CompressKV(output_dim, compress_factor)\n",
    "        self.out_proj = nn.Linear(output_dim, output_dim)\n",
    "\n",
    "    def reshape(self, x):\n",
    "        x = x.permute(0, 2, 1, 3)\n",
    "        return x.reshape(x.shape[0], x.shape[1], -1)\n",
    "\n",
    "    def forward(self, x, prev_kv=None, mask=None):\n",
    "        \"\"\"\n",
    "        x: [batch_size, seq_len, embed_dim]\n",
    "        kv: (k, v) where k, v: [batch_size, seq_len, num_heads * per_head_dim]\n",
    "        (kv is not None when attending to stored keys and values)\n",
    "        \"\"\"\n",
    "        if prev_kv is None:\n",
    "            q, k_, v_ = self.qkv_layer(x)\n",
    "            k, v = self.compress_k(k_), self.compress_v(v_)\n",
    "        else:\n",
    "            q, k_, v_ = self.qkv_layer(x)\n",
    "            k = self.compress_k(torch.cat([prev_kv[0], k_], dim=1))\n",
    "            v = self.compress_v(torch.cat([prev_kv[1], v_], dim=1))\n",
    "\n",
    "        q, k, v = self.qkv_layer.reshape(q), self.qkv_layer.reshape(k), self.qkv_layer.reshape(v)\n",
    "        attn_outputs = scaled_dot_product_attention(q, k, v, mask)\n",
    "        return self.reshape(attn_outputs), (k_, v_)"
   ]
  },
  {
   "cell_type": "code",
   "execution_count": 237,
   "metadata": {},
   "outputs": [
    {
     "name": "stdout",
     "output_type": "stream",
     "text": [
      "torch.Size([32, 100, 512]) torch.Size([32, 100, 512]) torch.Size([32, 100, 512])\n"
     ]
    }
   ],
   "source": [
    "mha = CompressedMultiHeadAttention(512, 512, 8, 3)\n",
    "out, kv = mha(torch.randn(32, 100, 512))\n",
    "print(out.shape, kv[0].shape, kv[1].shape)"
   ]
  },
  {
   "cell_type": "code",
   "execution_count": 238,
   "metadata": {},
   "outputs": [
    {
     "name": "stdout",
     "output_type": "stream",
     "text": [
      "torch.Size([32, 1, 512]) torch.Size([32, 1, 512]) torch.Size([32, 1, 512])\n"
     ]
    }
   ],
   "source": [
    "x_inference = torch.randn(32, 1, 512)\n",
    "out2, kv2 = mha(x_inference, prev_kv=kv)\n",
    "print(out2.shape, kv2[0].shape, kv2[1].shape)"
   ]
  }
 ],
 "metadata": {
  "kernelspec": {
   "display_name": "ml",
   "language": "python",
   "name": "python3"
  },
  "language_info": {
   "codemirror_mode": {
    "name": "ipython",
    "version": 3
   },
   "file_extension": ".py",
   "mimetype": "text/x-python",
   "name": "python",
   "nbconvert_exporter": "python",
   "pygments_lexer": "ipython3",
   "version": "3.9.13"
  },
  "orig_nbformat": 4
 },
 "nbformat": 4,
 "nbformat_minor": 2
}
